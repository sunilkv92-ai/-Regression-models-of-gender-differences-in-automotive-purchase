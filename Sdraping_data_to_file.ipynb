{
 "cells": [
  {
   "cell_type": "code",
   "execution_count": 9,
   "id": "912dce22",
   "metadata": {},
   "outputs": [],
   "source": [
    "import requests\n",
    "import requests\n",
    "from bs4 import BeautifulSoup\n",
    "import re"
   ]
  },
  {
   "cell_type": "code",
   "execution_count": 10,
   "id": "1defd78d",
   "metadata": {},
   "outputs": [],
   "source": [
    "url = \"https://autospecs.org/car-details?cIndex=0\"  \n",
    "r = requests.get(url)"
   ]
  },
  {
   "cell_type": "code",
   "execution_count": 94,
   "id": "03405313",
   "metadata": {},
   "outputs": [],
   "source": [
    "script_id = \"__NEXT_DATA__\"\n",
    "response = requests.get(url)\n",
    "soup = BeautifulSoup(response.content, 'html.parser')\n",
    "script_element = soup.find(\"script\", id=script_id)\n",
    "script_content = script_element.text if script_element else None\n",
    "data = re.findall(r'{.*}', script_content) if script_content else None\n",
    "file_data=[]"
   ]
  },
  {
   "cell_type": "code",
   "execution_count": 95,
   "id": "b1069411",
   "metadata": {},
   "outputs": [],
   "source": [
    "if data:\n",
    "    for item in data:\n",
    "        names = re.findall(r'\"name\":\"(.*?)\"', item)\n",
    "        highways = re.findall(r'\"highway\":\"(.*?)\"', item)\n",
    "        displacements = re.findall(r'\"displacement\":\"(.*?)\"', item)\n",
    "        tiresizes= re.findall(r'\"tiresize\":\"(.*?)\"', item)\n",
    "        wheelbases= re.findall(r'\"wheelbase\":\"(.*?)\"', item)\n",
    "        groundClearances=re.findall(r'\"groundClearance\":\"(.*?)\"', item)\n",
    "        cargos= re.findall(r'\"cargo\":\"(.*?)\"', item)\n",
    "        weights= re.findall(r'\"weight\":\"(.*?)\"', item)\n",
    "        car_data={}\n",
    "        if names:\n",
    "            \n",
    "            for name in names:\n",
    "                car_data=name \n",
    "                file_data.append(car_data)\n",
    "        if highways:\n",
    "            \n",
    "            for highway in highways:\n",
    "                car_data=highway\n",
    "                file_data.append(car_data)\n",
    "        if displacements:\n",
    "            \n",
    "            for displacement in displacements:\n",
    "                car_data=displacement\n",
    "                file_data.append(car_data)\n",
    "        if tiresizes:\n",
    "            \n",
    "            for tiresize in tiresizes:\n",
    "                car_data=tiresize\n",
    "                file_data.append(car_data)\n",
    "        if wheelbases:\n",
    "            \n",
    "            for wheelbase in wheelbases:\n",
    "                car_data=wheelbase\n",
    "                file_data.append(car_data)\n",
    "        if groundClearances:\n",
    "            \n",
    "            for groundClearance in groundClearances:\n",
    "                car_data=groundClearance\n",
    "                file_data.append(car_data)\n",
    "        if cargos:\n",
    "           \n",
    "            for cargo in cargos:\n",
    "                car_data=cargo\n",
    "                file_data.append(car_data)\n",
    "        if weights:\n",
    "            \n",
    "            for weight in weights:\n",
    "                car_data=weight\n",
    "                file_data.append(car_data)        \n",
    "        \n",
    "else:\n",
    "    print(\"No data found or script element not found.\")"
   ]
  },
  {
   "cell_type": "code",
   "execution_count": 100,
   "id": "7c78662b",
   "metadata": {},
   "outputs": [],
   "source": [
    "#file_data\n"
   ]
  },
  {
   "cell_type": "code",
   "execution_count": 116,
   "id": "ef9a9f94",
   "metadata": {},
   "outputs": [
    {
     "name": "stdout",
     "output_type": "stream",
     "text": [
      "Data successfully written to first_car.csv\n"
     ]
    }
   ],
   "source": [
    "import re\n",
    "import csv\n",
    "import requests\n",
    "from bs4 import BeautifulSoup\n",
    "\n",
    "script_id = \"__NEXT_DATA__\"\n",
    "url = \"https://autospecs.org/car-details?cIndex=0\"\n",
    "output_file = \"first_car.csv\"\n",
    "\n",
    "file_data = []  # Initialize the file_data list\n",
    "\n",
    "response = requests.get(url)\n",
    "soup = BeautifulSoup(response.content, 'html.parser')\n",
    "script_element = soup.find(\"script\", id=script_id)\n",
    "script_content = script_element.text if script_element else None\n",
    "\n",
    "if script_content:\n",
    "    data = re.findall(r'{.*}', script_content)\n",
    "    if data:\n",
    "        for item in data:\n",
    "            names = re.findall(r'\"name\":\"(.*?)\"', item)\n",
    "            highways = re.findall(r'\"highway\":\"(.*?)\"', item)\n",
    "            displacements = re.findall(r'\"displacement\":\"(.*?)\"', item)\n",
    "            tiresizes = re.findall(r'\"tiresize\":\"(.*?)\"', item)\n",
    "            wheelbases = re.findall(r'\"wheelbase\":\"(.*?)\"', item)\n",
    "            groundClearances = re.findall(r'\"groundClearance\":\"(.*?)\"', item)\n",
    "            cargos = re.findall(r'\"cargo\":\"(.*?)\"', item)\n",
    "            weights = re.findall(r'\"weight\":\"(.*?)\"', item)\n",
    "            \n",
    "            if names:\n",
    "                file_data.append(names)\n",
    "            if highways:\n",
    "                file_data.append(highways)\n",
    "            if displacements:\n",
    "                file_data.append(displacements)\n",
    "            if tiresizes:\n",
    "                file_data.append(tiresizes)\n",
    "            if wheelbases:\n",
    "                file_data.append(wheelbases)\n",
    "            if groundClearances:\n",
    "                file_data.append(groundClearances)\n",
    "            if cargos:\n",
    "                file_data.append(cargos)\n",
    "            if weights:\n",
    "                file_data.append(weights)\n",
    "        \n",
    "        with open(output_file, 'w', newline='') as file:\n",
    "            writer = csv.writer(file)\n",
    "            writer.writerow(['name','highway','displacement','tiresize','wheelbase','groundClearance','cargo','weight'])\n",
    "            writer.writerows(zip(*file_data))\n",
    "        \n",
    "        print(f\"Data successfully written to {output_file}\")\n",
    "    else:\n",
    "        print(\"No data found.\")\n",
    "else:\n",
    "    print(\"Script element not found or script content is None.\")\n"
   ]
  },
  {
   "cell_type": "code",
   "execution_count": null,
   "id": "7ee7006b",
   "metadata": {},
   "outputs": [],
   "source": []
  }
 ],
 "metadata": {
  "kernelspec": {
   "display_name": "Python 3 (ipykernel)",
   "language": "python",
   "name": "python3"
  },
  "language_info": {
   "codemirror_mode": {
    "name": "ipython",
    "version": 3
   },
   "file_extension": ".py",
   "mimetype": "text/x-python",
   "name": "python",
   "nbconvert_exporter": "python",
   "pygments_lexer": "ipython3",
   "version": "3.9.7"
  }
 },
 "nbformat": 4,
 "nbformat_minor": 5
}
