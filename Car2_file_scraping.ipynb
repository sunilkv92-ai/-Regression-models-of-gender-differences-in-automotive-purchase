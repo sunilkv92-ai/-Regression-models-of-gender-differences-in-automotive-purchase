{
 "cells": [
  {
   "cell_type": "code",
   "execution_count": 1,
   "id": "e3f89d4f",
   "metadata": {},
   "outputs": [
    {
     "name": "stdout",
     "output_type": "stream",
     "text": [
      "Data successfully written to first_car4.csv\n"
     ]
    }
   ],
   "source": [
    "import re\n",
    "import csv\n",
    "import requests\n",
    "from bs4 import BeautifulSoup\n",
    "\n",
    "script_id = \"__NEXT_DATA__\"\n",
    "url = \"https://autospecs.org/car-details?cIndex=1\"\n",
    "output_file = \"first_car4.csv\"\n",
    "\n",
    "file_data = []  # Initialize the file_data list\n",
    "\n",
    "response = requests.get(url)\n",
    "soup = BeautifulSoup(response.content, 'html.parser')\n",
    "script_element = soup.find(\"script\", id=script_id)\n",
    "script_content = script_element.text if script_element else None\n",
    "\n",
    "if script_content:\n",
    "    data = re.findall(r'{.*}', script_content)\n",
    "    if data:\n",
    "        for item in data:\n",
    "            names = re.findall(r'\"name\":\"(.*?)\"', item)\n",
    "            highways = re.findall(r'\"highway\":\"(.*?)\"', item)\n",
    "            displacements = re.findall(r'\"displacement\":\"(.*?)\"', item)\n",
    "            tiresizes = re.findall(r'\"tiresize\":\"(.*?)\"', item)\n",
    "            wheelbases = re.findall(r'\"wheelbase\":\"(.*?)\"', item)\n",
    "            groundClearances = re.findall(r'\"groundClearance\":\"(.*?)\"', item)\n",
    "            cargos = re.findall(r'\"cargo\":\"(.*?)\"', item)\n",
    "            weights = re.findall(r'\"weight\":\"(.*?)\"', item)\n",
    "            \n",
    "            if names:\n",
    "                file_data.append(names)\n",
    "            if highways:\n",
    "                file_data.append(highways)\n",
    "            if displacements:\n",
    "                file_data.append(displacements)\n",
    "            if tiresizes:\n",
    "                file_data.append(tiresizes)\n",
    "            if wheelbases:\n",
    "                file_data.append(wheelbases)\n",
    "            if groundClearances:\n",
    "                file_data.append(groundClearances)\n",
    "            if cargos:\n",
    "                file_data.append(cargos)\n",
    "            if weights:\n",
    "                file_data.append(weights)\n",
    "        \n",
    "        with open(output_file, 'w', newline='') as file:\n",
    "            writer = csv.writer(file)\n",
    "            writer.writerow(['name','highway','displacement','tiresize','wheelbase','groundClearance','cargo','weight'])\n",
    "            writer.writerows(zip(*file_data))\n",
    "        \n",
    "        print(f\"Data successfully written to {output_file}\")\n",
    "    else:\n",
    "        print(\"No data found.\")\n",
    "else:\n",
    "    print(\"Script element not found or script content is None.\")\n"
   ]
  },
  {
   "cell_type": "code",
   "execution_count": null,
   "id": "6dea8e8a",
   "metadata": {},
   "outputs": [],
   "source": []
  }
 ],
 "metadata": {
  "kernelspec": {
   "display_name": "Python 3 (ipykernel)",
   "language": "python",
   "name": "python3"
  },
  "language_info": {
   "codemirror_mode": {
    "name": "ipython",
    "version": 3
   },
   "file_extension": ".py",
   "mimetype": "text/x-python",
   "name": "python",
   "nbconvert_exporter": "python",
   "pygments_lexer": "ipython3",
   "version": "3.9.7"
  }
 },
 "nbformat": 4,
 "nbformat_minor": 5
}
