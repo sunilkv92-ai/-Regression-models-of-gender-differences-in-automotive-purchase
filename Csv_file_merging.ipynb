{
 "cells": [
  {
   "cell_type": "code",
   "execution_count": 1,
   "id": "3d4dfc70",
   "metadata": {},
   "outputs": [],
   "source": [
    "import pandas as pd\n",
    "csv_files = ['Audi.csv', 'Aro.csv']\n",
    "merged_data = pd.DataFrame()\n",
    "for file in csv_files:\n",
    "    data = pd.read_csv(file)\n",
    "    merged_data = pd.concat([merged_data, data])\n",
    "\n",
    "merged_data.to_csv('merged.csv', index=False)"
   ]
  },
  {
   "cell_type": "code",
   "execution_count": 2,
   "id": "7c18dd5f",
   "metadata": {},
   "outputs": [],
   "source": [
    "import os\n",
    "import glob\n",
    "import pandas as pd\n",
    "folder_path = '/Users/sunilkv/Desktop/Aa/Scraped_Data'\n",
    "merged_data = pd.DataFrame()\n",
    "csv_files = glob.glob(os.path.join(folder_path, '*.csv'))\n",
    "for file in csv_files:\n",
    "    data = pd.read_csv(file)\n",
    "    merged_data = pd.concat([merged_data, data])\n",
    "merged_data.to_csv('merged.csv', index=False)"
   ]
  },
  {
   "cell_type": "code",
   "execution_count": null,
   "id": "473998ab",
   "metadata": {},
   "outputs": [],
   "source": []
  }
 ],
 "metadata": {
  "kernelspec": {
   "display_name": "Python 3 (ipykernel)",
   "language": "python",
   "name": "python3"
  },
  "language_info": {
   "codemirror_mode": {
    "name": "ipython",
    "version": 3
   },
   "file_extension": ".py",
   "mimetype": "text/x-python",
   "name": "python",
   "nbconvert_exporter": "python",
   "pygments_lexer": "ipython3",
   "version": "3.9.7"
  }
 },
 "nbformat": 4,
 "nbformat_minor": 5
}
