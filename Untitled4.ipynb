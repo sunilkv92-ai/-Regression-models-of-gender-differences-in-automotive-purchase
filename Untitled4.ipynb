{
 "cells": [
  {
   "cell_type": "code",
   "execution_count": 1,
   "id": "cb0d83f6",
   "metadata": {},
   "outputs": [],
   "source": [
    "import pandas as pd\n",
    "import numpy as np\n",
    "from sklearn.linear_model import LinearRegression\n",
    "from sklearn.model_selection import train_test_split\n",
    "from sklearn.metrics import mean_squared_error, r2_score\n"
   ]
  },
  {
   "cell_type": "code",
   "execution_count": 2,
   "id": "be9b82d8",
   "metadata": {},
   "outputs": [
    {
     "name": "stdout",
     "output_type": "stream",
     "text": [
      "   Year  Make/Model    Male  Female  Unknown   Total    Male.1  Female.1  \\\n",
      "0  2013     AUDI A4  202037   59936    13629  275602  0.733075  0.217473   \n",
      "1  2013     AUDI A3  144962   97033    14460  256455  0.565253  0.378363   \n",
      "2  2013  CITROEN C3   78551   98254     9893  186698  0.420738  0.526272   \n",
      "3  2013    FIAT 500   30349  102113     8177  140639  0.215794  0.726065   \n",
      "4  2013     AUDI A4  202037   59936    13629  275602  0.733075  0.217473   \n",
      "\n",
      "   Unknown.1  Highway  Displacement  Tiresize  Wheelbase  GroundClearance  \\\n",
      "0   0.049452       67          1968       225      111.0              7.1   \n",
      "1   0.056384       49          1395       205      102.4              4.3   \n",
      "2   0.052989       51          1398       185       97.1              5.4   \n",
      "3   0.058142       36          1368       195       90.6              4.1   \n",
      "4   0.049452       67          1968       225      111.0              7.1   \n",
      "\n",
      "   Cargo  Weight  \n",
      "0   17.0    3318  \n",
      "1   12.9    2800  \n",
      "2   10.6    2458  \n",
      "3   14.5    2304  \n",
      "4   17.0    3318  \n"
     ]
    }
   ],
   "source": [
    "df = pd.read_excel(\"dummy.xlsx\")\n",
    "print(df.head())"
   ]
  },
  {
   "cell_type": "code",
   "execution_count": 3,
   "id": "b7efc77b",
   "metadata": {},
   "outputs": [],
   "source": [
    "X = df[['Highway', 'Displacement', 'Tiresize', 'Wheelbase', 'GroundClearance', 'Cargo', 'Weight']]\n",
    "y_male = df['Male']\n",
    "y_female = df['Female']"
   ]
  },
  {
   "cell_type": "code",
   "execution_count": 4,
   "id": "adb42907",
   "metadata": {},
   "outputs": [],
   "source": [
    "X_train_male, X_test_male, y_train_male, y_test_male = train_test_split(X, y_male, test_size=0.2, random_state=42)\n",
    "X_train_female, X_test_female, y_train_female, y_test_female = train_test_split(X, y_female, test_size=0.2, random_state=42)"
   ]
  },
  {
   "cell_type": "code",
   "execution_count": 5,
   "id": "79c3909d",
   "metadata": {},
   "outputs": [
    {
     "data": {
      "text/plain": [
       "LinearRegression()"
      ]
     },
     "execution_count": 5,
     "metadata": {},
     "output_type": "execute_result"
    }
   ],
   "source": [
    "regressor_male = LinearRegression()\n",
    "regressor_male.fit(X_train_male, y_train_male)\n",
    "\n",
    "regressor_female = LinearRegression()\n",
    "regressor_female.fit(X_train_female, y_train_female)"
   ]
  },
  {
   "cell_type": "code",
   "execution_count": 7,
   "id": "45756c5d",
   "metadata": {},
   "outputs": [
    {
     "name": "stdout",
     "output_type": "stream",
     "text": [
      "Male - Mean Squared Error: 2.964615315390051e-20\n",
      "Male - R-squared: 1.0\n",
      "Female - Mean Squared Error: 9.529120656610879e-22\n",
      "Female - R-squared: 1.0\n"
     ]
    }
   ],
   "source": [
    "y_pred_male = regressor_male.predict(X_test_male)\n",
    "y_pred_female = regressor_female.predict(X_test_female)\n",
    "print(\"Male - Mean Squared Error:\", mean_squared_error(y_test_male, y_pred_male))\n",
    "print(\"Male - R-squared:\", r2_score(y_test_male, y_pred_male))\n",
    "print(\"Female - Mean Squared Error:\", mean_squared_error(y_test_female, y_pred_female))\n",
    "print(\"Female - R-squared:\", r2_score(y_test_female, y_pred_female))\n"
   ]
  },
  {
   "cell_type": "code",
   "execution_count": null,
   "id": "8509aa7c",
   "metadata": {},
   "outputs": [],
   "source": []
  }
 ],
 "metadata": {
  "kernelspec": {
   "display_name": "Python 3 (ipykernel)",
   "language": "python",
   "name": "python3"
  },
  "language_info": {
   "codemirror_mode": {
    "name": "ipython",
    "version": 3
   },
   "file_extension": ".py",
   "mimetype": "text/x-python",
   "name": "python",
   "nbconvert_exporter": "python",
   "pygments_lexer": "ipython3",
   "version": "3.9.7"
  }
 },
 "nbformat": 4,
 "nbformat_minor": 5
}
