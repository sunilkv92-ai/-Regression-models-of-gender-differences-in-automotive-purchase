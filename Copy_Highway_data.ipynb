{
 "cells": [
  {
   "cell_type": "code",
   "execution_count": 2,
   "id": "ac55e5da",
   "metadata": {},
   "outputs": [],
   "source": [
    "import pandas as pd\n",
    "merged_data = pd.read_csv('merged.csv')\n",
    "car_data = pd.read_excel('car.xlsx')\n",
    "car_data['Highway'] = ''\n",
    "for index, row in merged_data.iterrows():\n",
    "    matching_rows = car_data[(car_data['Make/Model'] == row['name'])]\n",
    "    if not matching_rows.empty:\n",
    "        car_data.loc[matching_rows.index, 'Highway'] = row['highway']\n",
    "car_data.to_excel('updated_car.xlsx', index=False)\n"
   ]
  },
  {
   "cell_type": "code",
   "execution_count": null,
   "id": "1cb11951",
   "metadata": {},
   "outputs": [],
   "source": []
  }
 ],
 "metadata": {
  "kernelspec": {
   "display_name": "Python 3 (ipykernel)",
   "language": "python",
   "name": "python3"
  },
  "language_info": {
   "codemirror_mode": {
    "name": "ipython",
    "version": 3
   },
   "file_extension": ".py",
   "mimetype": "text/x-python",
   "name": "python",
   "nbconvert_exporter": "python",
   "pygments_lexer": "ipython3",
   "version": "3.9.7"
  }
 },
 "nbformat": 4,
 "nbformat_minor": 5
}
